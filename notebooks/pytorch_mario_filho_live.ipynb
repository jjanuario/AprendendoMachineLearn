{
  "cells": [
    {
      "metadata": {
        "collapsed": true
      },
      "cell_type": "markdown",
      "source": "# São Paulo 04 de Maio de 2020\n## Live 24 Tutorial Basico de Pytorch\n### Uma biblioteca de Deep Learn do Facebook\njeferson@asterixsolucoes.com.br"
    },
    {
      "metadata": {
        "trusted": true
      },
      "cell_type": "code",
      "source": "# Instalando as dependencia\n!pip install --upgrade pip\n#!pip install pytorch",
      "execution_count": 3,
      "outputs": [
        {
          "output_type": "stream",
          "text": "Requirement already up-to-date: pip in /home/nbuser/anaconda3_501/lib/python3.6/site-packages (20.1)\r\n",
          "name": "stdout"
        }
      ]
    },
    {
      "metadata": {
        "trusted": true
      },
      "cell_type": "code",
      "source": "# Realizando os imports\nimport torch\nimport torch.nn as nn\nimport torch.nn.functional as F\n\nimport pandas as pd\nimport numpy as np",
      "execution_count": 10,
      "outputs": []
    },
    {
      "metadata": {
        "trusted": true
      },
      "cell_type": "code",
      "source": "t = torch.Tensor([1,2,3])\nt",
      "execution_count": 7,
      "outputs": [
        {
          "output_type": "execute_result",
          "execution_count": 7,
          "data": {
            "text/plain": "tensor([1., 2., 3.])"
          },
          "metadata": {}
        }
      ]
    },
    {
      "metadata": {
        "trusted": true
      },
      "cell_type": "code",
      "source": "array = np.array([1,2,3])\nt2 = torch.from_numpy(array)",
      "execution_count": 12,
      "outputs": []
    },
    {
      "metadata": {
        "trusted": true
      },
      "cell_type": "code",
      "source": "t2",
      "execution_count": 13,
      "outputs": [
        {
          "output_type": "execute_result",
          "execution_count": 13,
          "data": {
            "text/plain": "tensor([1, 2, 3])"
          },
          "metadata": {}
        }
      ]
    },
    {
      "metadata": {
        "trusted": true
      },
      "cell_type": "code",
      "source": "t *10",
      "execution_count": 14,
      "outputs": [
        {
          "output_type": "execute_result",
          "execution_count": 14,
          "data": {
            "text/plain": "tensor([10., 20., 30.])"
          },
          "metadata": {}
        }
      ]
    },
    {
      "metadata": {
        "trusted": true
      },
      "cell_type": "code",
      "source": "t.dot(t)",
      "execution_count": 15,
      "outputs": [
        {
          "output_type": "execute_result",
          "execution_count": 15,
          "data": {
            "text/plain": "tensor(14.)"
          },
          "metadata": {}
        }
      ]
    },
    {
      "metadata": {
        "trusted": true
      },
      "cell_type": "code",
      "source": "t3 = torch.Tensor([2,2,2])\nt3.dot(t3)",
      "execution_count": 19,
      "outputs": [
        {
          "output_type": "execute_result",
          "execution_count": 19,
          "data": {
            "text/plain": "tensor(12.)"
          },
          "metadata": {}
        }
      ]
    },
    {
      "metadata": {
        "trusted": true
      },
      "cell_type": "code",
      "source": "# Lendo o dataset\ndata = pd.read_csv(\"../data/housing.csv\")\ndata.sample(3)",
      "execution_count": 20,
      "outputs": [
        {
          "output_type": "execute_result",
          "execution_count": 20,
          "data": {
            "text/html": "<div>\n<style scoped>\n    .dataframe tbody tr th:only-of-type {\n        vertical-align: middle;\n    }\n\n    .dataframe tbody tr th {\n        vertical-align: top;\n    }\n\n    .dataframe thead th {\n        text-align: right;\n    }\n</style>\n<table border=\"1\" class=\"dataframe\">\n  <thead>\n    <tr style=\"text-align: right;\">\n      <th></th>\n      <th>longitude</th>\n      <th>latitude</th>\n      <th>housing_median_age</th>\n      <th>total_rooms</th>\n      <th>total_bedrooms</th>\n      <th>population</th>\n      <th>households</th>\n      <th>median_income</th>\n      <th>median_house_value</th>\n      <th>ocean_proximity</th>\n    </tr>\n  </thead>\n  <tbody>\n    <tr>\n      <th>16799</th>\n      <td>-122.44</td>\n      <td>37.67</td>\n      <td>35.0</td>\n      <td>1814.0</td>\n      <td>365.0</td>\n      <td>1025.0</td>\n      <td>384.0</td>\n      <td>4.4250</td>\n      <td>268400.0</td>\n      <td>NEAR OCEAN</td>\n    </tr>\n    <tr>\n      <th>14110</th>\n      <td>-117.12</td>\n      <td>32.75</td>\n      <td>13.0</td>\n      <td>2795.0</td>\n      <td>773.0</td>\n      <td>1869.0</td>\n      <td>690.0</td>\n      <td>2.1767</td>\n      <td>101800.0</td>\n      <td>NEAR OCEAN</td>\n    </tr>\n    <tr>\n      <th>6930</th>\n      <td>-118.08</td>\n      <td>34.02</td>\n      <td>14.0</td>\n      <td>3789.0</td>\n      <td>810.0</td>\n      <td>2551.0</td>\n      <td>793.0</td>\n      <td>2.9321</td>\n      <td>144200.0</td>\n      <td>&lt;1H OCEAN</td>\n    </tr>\n  </tbody>\n</table>\n</div>",
            "text/plain": "       longitude  latitude  housing_median_age  total_rooms  total_bedrooms  \\\n16799    -122.44     37.67                35.0       1814.0           365.0   \n14110    -117.12     32.75                13.0       2795.0           773.0   \n6930     -118.08     34.02                14.0       3789.0           810.0   \n\n       population  households  median_income  median_house_value  \\\n16799      1025.0       384.0         4.4250            268400.0   \n14110      1869.0       690.0         2.1767            101800.0   \n6930       2551.0       793.0         2.9321            144200.0   \n\n      ocean_proximity  \n16799      NEAR OCEAN  \n14110      NEAR OCEAN  \n6930        <1H OCEAN  "
          },
          "metadata": {}
        }
      ]
    },
    {
      "metadata": {
        "trusted": true
      },
      "cell_type": "code",
      "source": "",
      "execution_count": null,
      "outputs": []
    }
  ],
  "metadata": {
    "kernelspec": {
      "name": "python36",
      "display_name": "Python 3.6",
      "language": "python"
    },
    "language_info": {
      "mimetype": "text/x-python",
      "nbconvert_exporter": "python",
      "name": "python",
      "pygments_lexer": "ipython3",
      "version": "3.6.6",
      "file_extension": ".py",
      "codemirror_mode": {
        "version": 3,
        "name": "ipython"
      }
    }
  },
  "nbformat": 4,
  "nbformat_minor": 2
}