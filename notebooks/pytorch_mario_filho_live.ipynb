{
  "nbformat": 4,
  "nbformat_minor": 0,
  "metadata": {
    "kernelspec": {
      "name": "python36",
      "display_name": "Python 3.6",
      "language": "python"
    },
    "language_info": {
      "mimetype": "text/x-python",
      "nbconvert_exporter": "python",
      "name": "python",
      "pygments_lexer": "ipython3",
      "version": "3.6.6",
      "file_extension": ".py",
      "codemirror_mode": {
        "version": 3,
        "name": "ipython"
      }
    },
    "colab": {
      "name": "pytorch_mario_filho_live.ipynb",
      "provenance": [],
      "include_colab_link": true
    },
    "accelerator": "GPU"
  },
  "cells": [
    {
      "cell_type": "markdown",
      "metadata": {
        "id": "view-in-github",
        "colab_type": "text"
      },
      "source": [
        "<a href=\"https://colab.research.google.com/github/jjanuario/AprendendoMachineLearn/blob/master/notebooks/pytorch_mario_filho_live.ipynb\" target=\"_parent\"><img src=\"https://colab.research.google.com/assets/colab-badge.svg\" alt=\"Open In Colab\"/></a>"
      ]
    },
    {
      "cell_type": "markdown",
      "metadata": {
        "collapsed": true,
        "id": "5XtnZ6C5QbSq",
        "colab_type": "text"
      },
      "source": [
        "# São Paulo 04 de Maio de 2020\n",
        "## Live 24 Tutorial Basico de Pytorch\n",
        "### Uma biblioteca de Deep Learn do Facebook\n",
        "jeferson@asterixsolucoes.com.br"
      ]
    },
    {
      "cell_type": "code",
      "metadata": {
        "trusted": true,
        "id": "TWmqc_QBQbSu",
        "colab_type": "code",
        "colab": {
          "base_uri": "https://localhost:8080/",
          "height": 184
        },
        "outputId": "dbcec0ed-6a28-41dd-b3e4-bf1b4f48f3c7"
      },
      "source": [
        "# Instalando as dependencia\n",
        "!pip install --upgrade pip\n",
        "#!pip install pytorch"
      ],
      "execution_count": 1,
      "outputs": [
        {
          "output_type": "stream",
          "text": [
            "Collecting pip\n",
            "\u001b[?25l  Downloading https://files.pythonhosted.org/packages/54/2e/df11ea7e23e7e761d484ed3740285a34e38548cf2bad2bed3dd5768ec8b9/pip-20.1-py2.py3-none-any.whl (1.5MB)\n",
            "\u001b[K     |████████████████████████████████| 1.5MB 2.8MB/s \n",
            "\u001b[?25hInstalling collected packages: pip\n",
            "  Found existing installation: pip 19.3.1\n",
            "    Uninstalling pip-19.3.1:\n",
            "      Successfully uninstalled pip-19.3.1\n",
            "Successfully installed pip-20.1\n"
          ],
          "name": "stdout"
        }
      ]
    },
    {
      "cell_type": "code",
      "metadata": {
        "trusted": true,
        "id": "KRy1rdvkQbTG",
        "colab_type": "code",
        "colab": {}
      },
      "source": [
        "# Realizando os imports\n",
        "import torch\n",
        "import torch.nn as nn\n",
        "import torch.nn.functional as F\n",
        "\n",
        "import pandas as pd\n",
        "import numpy as np"
      ],
      "execution_count": 0,
      "outputs": []
    },
    {
      "cell_type": "code",
      "metadata": {
        "trusted": true,
        "id": "ilzrgRnYQbTa",
        "colab_type": "code",
        "colab": {
          "base_uri": "https://localhost:8080/",
          "height": 35
        },
        "outputId": "4bd0df31-3830-4bf3-f8a4-53a1e2b22573"
      },
      "source": [
        "t = torch.Tensor([1,2,3])\n",
        "t"
      ],
      "execution_count": 3,
      "outputs": [
        {
          "output_type": "execute_result",
          "data": {
            "text/plain": [
              "tensor([1., 2., 3.])"
            ]
          },
          "metadata": {
            "tags": []
          },
          "execution_count": 3
        }
      ]
    },
    {
      "cell_type": "code",
      "metadata": {
        "trusted": true,
        "id": "Wgo_rpxCQbTz",
        "colab_type": "code",
        "colab": {}
      },
      "source": [
        "array = np.array([1,2,3])\n",
        "t2 = torch.from_numpy(array)"
      ],
      "execution_count": 0,
      "outputs": []
    },
    {
      "cell_type": "code",
      "metadata": {
        "trusted": true,
        "id": "psOF2ghiQbT7",
        "colab_type": "code",
        "colab": {
          "base_uri": "https://localhost:8080/",
          "height": 35
        },
        "outputId": "80769faa-7e54-498d-bc0e-751ec8c09832"
      },
      "source": [
        "t2"
      ],
      "execution_count": 5,
      "outputs": [
        {
          "output_type": "execute_result",
          "data": {
            "text/plain": [
              "tensor([1, 2, 3])"
            ]
          },
          "metadata": {
            "tags": []
          },
          "execution_count": 5
        }
      ]
    },
    {
      "cell_type": "code",
      "metadata": {
        "trusted": true,
        "id": "Hy5RcSyfQbUG",
        "colab_type": "code",
        "colab": {
          "base_uri": "https://localhost:8080/",
          "height": 35
        },
        "outputId": "dad3a288-47f2-4c97-d87a-ff4aff00e4fa"
      },
      "source": [
        "t *10"
      ],
      "execution_count": 6,
      "outputs": [
        {
          "output_type": "execute_result",
          "data": {
            "text/plain": [
              "tensor([10., 20., 30.])"
            ]
          },
          "metadata": {
            "tags": []
          },
          "execution_count": 6
        }
      ]
    },
    {
      "cell_type": "code",
      "metadata": {
        "trusted": true,
        "id": "wLvpnU7LQbUT",
        "colab_type": "code",
        "colab": {
          "base_uri": "https://localhost:8080/",
          "height": 35
        },
        "outputId": "7bdb9121-907f-46e0-e16e-6e21be22d08e"
      },
      "source": [
        "t.dot(t)"
      ],
      "execution_count": 7,
      "outputs": [
        {
          "output_type": "execute_result",
          "data": {
            "text/plain": [
              "tensor(14.)"
            ]
          },
          "metadata": {
            "tags": []
          },
          "execution_count": 7
        }
      ]
    },
    {
      "cell_type": "code",
      "metadata": {
        "trusted": true,
        "id": "MVRt0yQKQbUa",
        "colab_type": "code",
        "colab": {
          "base_uri": "https://localhost:8080/",
          "height": 35
        },
        "outputId": "d05d85c3-7ee3-4bc9-8ec2-fe7d0c0af399"
      },
      "source": [
        "t3 = torch.Tensor([2,2,2])\n",
        "t3.dot(t3)"
      ],
      "execution_count": 8,
      "outputs": [
        {
          "output_type": "execute_result",
          "data": {
            "text/plain": [
              "tensor(12.)"
            ]
          },
          "metadata": {
            "tags": []
          },
          "execution_count": 8
        }
      ]
    },
    {
      "cell_type": "code",
      "metadata": {
        "id": "LdURnVUEQ34i",
        "colab_type": "code",
        "colab": {
          "base_uri": "https://localhost:8080/",
          "height": 35
        },
        "outputId": "fa09b5d5-21f4-4cac-a146-789204ad99c1"
      },
      "source": [
        "!ls sample_data/california_housing_test.csv"
      ],
      "execution_count": 9,
      "outputs": [
        {
          "output_type": "stream",
          "text": [
            "sample_data/california_housing_test.csv\n"
          ],
          "name": "stdout"
        }
      ]
    },
    {
      "cell_type": "code",
      "metadata": {
        "trusted": true,
        "id": "0n64fvwMQbUg",
        "colab_type": "code",
        "colab": {
          "base_uri": "https://localhost:8080/",
          "height": 206
        },
        "outputId": "0212c7a5-bd79-4008-bbdb-6ef6affd63c7"
      },
      "source": [
        "# Lendo o dataset\n",
        "data_test = pd.read_csv(\"sample_data/california_housing_test.csv\")\n",
        "data_train = pd.read_csv(\"sample_data/california_housing_train.csv\")\n",
        "data_train.head()"
      ],
      "execution_count": 14,
      "outputs": [
        {
          "output_type": "execute_result",
          "data": {
            "text/html": [
              "<div>\n",
              "<style scoped>\n",
              "    .dataframe tbody tr th:only-of-type {\n",
              "        vertical-align: middle;\n",
              "    }\n",
              "\n",
              "    .dataframe tbody tr th {\n",
              "        vertical-align: top;\n",
              "    }\n",
              "\n",
              "    .dataframe thead th {\n",
              "        text-align: right;\n",
              "    }\n",
              "</style>\n",
              "<table border=\"1\" class=\"dataframe\">\n",
              "  <thead>\n",
              "    <tr style=\"text-align: right;\">\n",
              "      <th></th>\n",
              "      <th>longitude</th>\n",
              "      <th>latitude</th>\n",
              "      <th>housing_median_age</th>\n",
              "      <th>total_rooms</th>\n",
              "      <th>total_bedrooms</th>\n",
              "      <th>population</th>\n",
              "      <th>households</th>\n",
              "      <th>median_income</th>\n",
              "      <th>median_house_value</th>\n",
              "    </tr>\n",
              "  </thead>\n",
              "  <tbody>\n",
              "    <tr>\n",
              "      <th>0</th>\n",
              "      <td>-114.31</td>\n",
              "      <td>34.19</td>\n",
              "      <td>15.0</td>\n",
              "      <td>5612.0</td>\n",
              "      <td>1283.0</td>\n",
              "      <td>1015.0</td>\n",
              "      <td>472.0</td>\n",
              "      <td>1.4936</td>\n",
              "      <td>66900.0</td>\n",
              "    </tr>\n",
              "    <tr>\n",
              "      <th>1</th>\n",
              "      <td>-114.47</td>\n",
              "      <td>34.40</td>\n",
              "      <td>19.0</td>\n",
              "      <td>7650.0</td>\n",
              "      <td>1901.0</td>\n",
              "      <td>1129.0</td>\n",
              "      <td>463.0</td>\n",
              "      <td>1.8200</td>\n",
              "      <td>80100.0</td>\n",
              "    </tr>\n",
              "    <tr>\n",
              "      <th>2</th>\n",
              "      <td>-114.56</td>\n",
              "      <td>33.69</td>\n",
              "      <td>17.0</td>\n",
              "      <td>720.0</td>\n",
              "      <td>174.0</td>\n",
              "      <td>333.0</td>\n",
              "      <td>117.0</td>\n",
              "      <td>1.6509</td>\n",
              "      <td>85700.0</td>\n",
              "    </tr>\n",
              "    <tr>\n",
              "      <th>3</th>\n",
              "      <td>-114.57</td>\n",
              "      <td>33.64</td>\n",
              "      <td>14.0</td>\n",
              "      <td>1501.0</td>\n",
              "      <td>337.0</td>\n",
              "      <td>515.0</td>\n",
              "      <td>226.0</td>\n",
              "      <td>3.1917</td>\n",
              "      <td>73400.0</td>\n",
              "    </tr>\n",
              "    <tr>\n",
              "      <th>4</th>\n",
              "      <td>-114.57</td>\n",
              "      <td>33.57</td>\n",
              "      <td>20.0</td>\n",
              "      <td>1454.0</td>\n",
              "      <td>326.0</td>\n",
              "      <td>624.0</td>\n",
              "      <td>262.0</td>\n",
              "      <td>1.9250</td>\n",
              "      <td>65500.0</td>\n",
              "    </tr>\n",
              "  </tbody>\n",
              "</table>\n",
              "</div>"
            ],
            "text/plain": [
              "   longitude  latitude  ...  median_income  median_house_value\n",
              "0    -114.31     34.19  ...         1.4936             66900.0\n",
              "1    -114.47     34.40  ...         1.8200             80100.0\n",
              "2    -114.56     33.69  ...         1.6509             85700.0\n",
              "3    -114.57     33.64  ...         3.1917             73400.0\n",
              "4    -114.57     33.57  ...         1.9250             65500.0\n",
              "\n",
              "[5 rows x 9 columns]"
            ]
          },
          "metadata": {
            "tags": []
          },
          "execution_count": 14
        }
      ]
    },
    {
      "cell_type": "code",
      "metadata": {
        "trusted": true,
        "id": "UnyCmCQIQbUp",
        "colab_type": "code",
        "colab": {}
      },
      "source": [
        "# Aqui tem um comentario\n",
        "X = data_train.drop('median_house_value', axis=1)\n",
        "y = data_train['median_house_value']"
      ],
      "execution_count": 0,
      "outputs": []
    },
    {
      "cell_type": "code",
      "metadata": {
        "id": "bRW5bMnzB7rC",
        "colab_type": "code",
        "colab": {}
      },
      "source": [
        "class Net(nn.Module):\n",
        "  def __init__(self):\n",
        "    super(Net, self).__init__()\n",
        "# Minhas features são 8 enviando para 100 neoronios\n",
        "    self.fc1 = nn.Linear(8, 100)\n",
        "    self.fc2 = nn.Linear(100, 100)\n",
        "# Aqui temos cem neoronios entregando para um neoronio tomador de descissoes\n",
        "    self.out = nn.Linear(100, 1)\n",
        "\n",
        "  def forward(self, x):\n",
        "    x = F.normalize(x)\n",
        "    x = F.relu(self.fc1(x))\n",
        "    x = F.relu(self.fc2(x))\n",
        "    \n",
        "    y = self.out(x)\n",
        "\n",
        "    return y\n"
      ],
      "execution_count": 0,
      "outputs": []
    },
    {
      "cell_type": "code",
      "metadata": {
        "id": "3sonfG13Gnq0",
        "colab_type": "code",
        "colab": {
          "base_uri": "https://localhost:8080/",
          "height": 109
        },
        "outputId": "6e95a074-4ba4-49e8-9ca1-a3b474403526"
      },
      "source": [
        "net = Net()\n",
        "print(net)"
      ],
      "execution_count": 34,
      "outputs": [
        {
          "output_type": "stream",
          "text": [
            "Net(\n",
            "  (fc1): Linear(in_features=8, out_features=100, bias=True)\n",
            "  (fc2): Linear(in_features=100, out_features=100, bias=True)\n",
            "  (out): Linear(in_features=100, out_features=1, bias=True)\n",
            ")\n"
          ],
          "name": "stdout"
        }
      ]
    },
    {
      "cell_type": "code",
      "metadata": {
        "id": "hWG6WCnoHBF9",
        "colab_type": "code",
        "colab": {}
      },
      "source": [
        "X_tensor = torch.from_numpy(data_train.values[:, :-1]).float()\n",
        "y_tensor = torch.from_numpy(data_train.values[:, -1]).float()\n",
        "\n",
        "y_tensor = torch.log(y_tensor)"
      ],
      "execution_count": 0,
      "outputs": []
    },
    {
      "cell_type": "code",
      "metadata": {
        "id": "yBj7Qv1-H61P",
        "colab_type": "code",
        "colab": {
          "base_uri": "https://localhost:8080/",
          "height": 1000
        },
        "outputId": "9ea9d043-9bfb-4b99-ebc4-c2a0e9bf15e3"
      },
      "source": [
        "# Verificando pesos de optimização da nossa rede neural\n",
        "print(list(net.parameters()))"
      ],
      "execution_count": 43,
      "outputs": [
        {
          "output_type": "stream",
          "text": [
            "[Parameter containing:\n",
            "tensor([[ 0.0125, -0.1031,  0.0435, -0.1617, -0.1109,  0.3219,  0.3617,  0.1351],\n",
            "        [ 0.0774, -0.1654,  0.1126, -0.1666, -0.1305,  0.2637, -0.0133,  0.1857],\n",
            "        [ 0.2762, -0.2532, -0.1198, -0.0275, -0.3093, -0.1702,  0.0816, -0.2284],\n",
            "        [-0.0730,  0.2001,  0.3153,  0.1061, -0.2203,  0.1430,  0.0549, -0.0488],\n",
            "        [-0.1805, -0.2388,  0.1842,  0.0368, -0.0817,  0.0484, -0.2353,  0.2307],\n",
            "        [-0.2937,  0.2470,  0.2023,  0.3271,  0.0171,  0.1375, -0.3019, -0.1981],\n",
            "        [-0.0772, -0.0335,  0.1342, -0.2881,  0.2510, -0.1281, -0.2286,  0.0663],\n",
            "        [-0.1824, -0.2328, -0.1682,  0.2146,  0.0221, -0.1651, -0.1996,  0.3227],\n",
            "        [ 0.2942, -0.2002, -0.0345,  0.2626,  0.0847,  0.1448,  0.0572,  0.2334],\n",
            "        [ 0.0876,  0.2889, -0.2323,  0.2480, -0.1574, -0.0370, -0.0058, -0.1684],\n",
            "        [-0.1571, -0.2014,  0.1969,  0.1231,  0.1040,  0.0574, -0.1044, -0.3298],\n",
            "        [ 0.0437,  0.2498, -0.0446,  0.0223, -0.0519,  0.1066,  0.2883,  0.2081],\n",
            "        [ 0.1860,  0.0722,  0.0704,  0.2359, -0.2670,  0.0112,  0.3500,  0.0030],\n",
            "        [-0.2291, -0.1697,  0.0385, -0.2355, -0.0026, -0.1252, -0.0853,  0.1997],\n",
            "        [-0.3436, -0.3533, -0.1532,  0.1556, -0.2996,  0.1866,  0.0434,  0.3099],\n",
            "        [-0.1693, -0.1115,  0.1498,  0.0561, -0.1195,  0.0606,  0.3602, -0.0695],\n",
            "        [ 0.2824,  0.1299,  0.0661, -0.3192,  0.0384, -0.1253,  0.1064, -0.3418],\n",
            "        [ 0.1998,  0.2282,  0.3429, -0.3351,  0.2158, -0.1458, -0.1064,  0.0547],\n",
            "        [ 0.2907,  0.3287, -0.0990,  0.1626, -0.0484,  0.3058, -0.0409,  0.0256],\n",
            "        [-0.2004,  0.2111, -0.0438, -0.0129,  0.1485,  0.2675,  0.0474,  0.2855],\n",
            "        [ 0.2815,  0.1439, -0.3264, -0.1279, -0.2727,  0.1370, -0.1388, -0.2039],\n",
            "        [-0.2347, -0.2699, -0.2586, -0.1779, -0.3113,  0.0830,  0.3307,  0.2386],\n",
            "        [-0.0726,  0.2915,  0.2506,  0.0733,  0.3508,  0.2987,  0.0950, -0.0664],\n",
            "        [-0.2099, -0.3350, -0.2290,  0.2195, -0.1625,  0.2862, -0.2288,  0.3161],\n",
            "        [ 0.1333,  0.0175, -0.1974,  0.1373,  0.2015,  0.1691,  0.2882,  0.2300],\n",
            "        [-0.0178, -0.2451, -0.1331,  0.1593,  0.0715,  0.0078, -0.1223,  0.0664],\n",
            "        [ 0.2608,  0.3489,  0.3114,  0.3560, -0.2090,  0.0838, -0.2406,  0.3034],\n",
            "        [-0.0684,  0.1775, -0.0013, -0.0934, -0.2214,  0.3155, -0.3243,  0.1799],\n",
            "        [-0.3107, -0.2950,  0.0245, -0.3430,  0.1195, -0.0390,  0.2217,  0.3499],\n",
            "        [-0.3550,  0.1634,  0.1677, -0.0892, -0.2778, -0.2582,  0.2413,  0.3633],\n",
            "        [-0.0919, -0.0630,  0.1281, -0.1069, -0.0111,  0.0131, -0.1300,  0.1413],\n",
            "        [ 0.0533,  0.1718,  0.0219,  0.1225, -0.3364, -0.2808, -0.0697, -0.2391],\n",
            "        [-0.2321,  0.2372, -0.0127,  0.3025, -0.0641,  0.0039,  0.1350, -0.0790],\n",
            "        [ 0.0515, -0.0094, -0.0930, -0.1050,  0.1493,  0.3021, -0.1131, -0.3169],\n",
            "        [ 0.2157, -0.2254, -0.1887,  0.2073,  0.0191, -0.3150, -0.2724, -0.2436],\n",
            "        [-0.0347, -0.2555, -0.2803,  0.3079,  0.2067,  0.0422,  0.2452,  0.3464],\n",
            "        [ 0.1945, -0.2023, -0.2556,  0.2016, -0.1521,  0.2544,  0.1489,  0.2187],\n",
            "        [-0.3546, -0.3129, -0.0445, -0.2636,  0.2420,  0.2523, -0.1682, -0.1361],\n",
            "        [-0.2525, -0.2123,  0.1642, -0.1822,  0.2142,  0.3461,  0.3230, -0.3079],\n",
            "        [ 0.1535, -0.3224,  0.0348, -0.3409, -0.1442, -0.1951,  0.1172, -0.1702],\n",
            "        [-0.2486,  0.0203, -0.2219, -0.2567, -0.0431,  0.2395,  0.0317,  0.3319],\n",
            "        [-0.0690,  0.2354,  0.2245, -0.2778, -0.0311,  0.0504, -0.1733,  0.2965],\n",
            "        [-0.2288, -0.0020, -0.0577, -0.2074,  0.2573, -0.0350,  0.2759, -0.2733],\n",
            "        [ 0.1824, -0.3412,  0.2002,  0.0559,  0.1447, -0.2013, -0.2915, -0.2336],\n",
            "        [ 0.3451,  0.0424,  0.2765,  0.1225, -0.0236,  0.3032,  0.0470, -0.2551],\n",
            "        [-0.2636,  0.0139, -0.2264,  0.1218,  0.0628,  0.1049,  0.1930, -0.2719],\n",
            "        [ 0.0474,  0.0061, -0.0354, -0.2071,  0.0817, -0.0173, -0.0732,  0.0035],\n",
            "        [ 0.2597,  0.1489,  0.1178,  0.1214, -0.0807,  0.2498,  0.2027, -0.1544],\n",
            "        [ 0.3329,  0.3121, -0.1621, -0.0105,  0.0029,  0.2590, -0.0305,  0.0430],\n",
            "        [-0.2971,  0.0582,  0.0713, -0.3408,  0.2738, -0.0050,  0.3367,  0.0351],\n",
            "        [-0.2254, -0.2396,  0.0517, -0.2478,  0.0159,  0.0838, -0.2222,  0.3167],\n",
            "        [ 0.2877, -0.3197,  0.2378, -0.1535,  0.0475,  0.2375, -0.3282, -0.0740],\n",
            "        [ 0.2858, -0.2197,  0.3175, -0.1213, -0.1176, -0.0430, -0.3412, -0.1859],\n",
            "        [-0.3187,  0.2768, -0.2983,  0.2412, -0.1844, -0.0972,  0.0541, -0.3381],\n",
            "        [-0.1941, -0.0742, -0.1789, -0.0073, -0.1350, -0.0980, -0.1797, -0.2362],\n",
            "        [-0.2341,  0.0589, -0.2086, -0.3234,  0.2309,  0.1273, -0.3278, -0.2113],\n",
            "        [-0.1326,  0.2462,  0.2973, -0.0190,  0.2263, -0.2798,  0.3585, -0.3427],\n",
            "        [-0.0318,  0.0799,  0.2223, -0.1217,  0.2453, -0.0396, -0.0111, -0.0099],\n",
            "        [ 0.2720, -0.1888,  0.0694,  0.1204, -0.2762,  0.0312,  0.1884, -0.2158],\n",
            "        [-0.0507, -0.0816,  0.3329,  0.1073,  0.2034,  0.0923,  0.0624, -0.1980],\n",
            "        [-0.0438,  0.2912,  0.1964,  0.0221, -0.2481, -0.1822,  0.1293,  0.0158],\n",
            "        [ 0.1345,  0.3325, -0.0334,  0.2594, -0.0355, -0.0308,  0.1468, -0.0901],\n",
            "        [ 0.1765,  0.1632, -0.2792,  0.2451, -0.0217, -0.1751, -0.3008, -0.2864],\n",
            "        [-0.3163,  0.1236,  0.0861,  0.1014, -0.2570,  0.0057, -0.2585,  0.0887],\n",
            "        [-0.0543,  0.2427, -0.1656,  0.3042,  0.2858, -0.0071, -0.0244,  0.3317],\n",
            "        [ 0.1193,  0.0454, -0.1951, -0.0135, -0.1922,  0.0610,  0.0072, -0.1183],\n",
            "        [ 0.3106,  0.2315,  0.1132,  0.3602, -0.2492,  0.0665,  0.3477,  0.0594],\n",
            "        [ 0.2201, -0.2887,  0.1823, -0.3187,  0.2676, -0.1000,  0.0143,  0.0886],\n",
            "        [ 0.0881, -0.1551, -0.2136,  0.1854,  0.2227,  0.2016, -0.1122, -0.1012],\n",
            "        [-0.1179, -0.0575,  0.2165,  0.0584, -0.0508,  0.1331, -0.0544,  0.0395],\n",
            "        [ 0.3230, -0.3393,  0.0820, -0.1520,  0.2700, -0.0699,  0.1488, -0.2145],\n",
            "        [ 0.1420, -0.1261,  0.2297,  0.3290,  0.2909,  0.1902, -0.3277,  0.2363],\n",
            "        [ 0.3227,  0.0261, -0.2731,  0.0370, -0.3467,  0.0464, -0.0598,  0.0309],\n",
            "        [ 0.1143, -0.3247, -0.0452,  0.3186,  0.0830, -0.3332,  0.1384, -0.0800],\n",
            "        [ 0.1918, -0.2619, -0.1682, -0.0862, -0.1037, -0.3275,  0.1026,  0.1898],\n",
            "        [-0.3107, -0.1497, -0.0005, -0.1823,  0.1188, -0.1321,  0.1952,  0.3602],\n",
            "        [ 0.0598,  0.3274, -0.2718, -0.3517, -0.2653,  0.2890,  0.2830,  0.2532],\n",
            "        [-0.2938,  0.2431,  0.1783, -0.1866,  0.1069,  0.2801, -0.0118, -0.0119],\n",
            "        [-0.3476, -0.3257, -0.1172,  0.1164, -0.0362, -0.2724, -0.0765, -0.3357],\n",
            "        [-0.3299, -0.1576, -0.2872,  0.3113,  0.2641,  0.0316, -0.2365,  0.2392],\n",
            "        [-0.0506,  0.2951, -0.0317,  0.0546,  0.0463, -0.2345,  0.1806, -0.2805],\n",
            "        [ 0.2069, -0.1994, -0.1947,  0.1668, -0.3197, -0.0088, -0.2645,  0.0492],\n",
            "        [-0.0408, -0.3424,  0.1098, -0.3296,  0.1529,  0.1278,  0.2779,  0.2995],\n",
            "        [ 0.2358,  0.2814,  0.1035, -0.2449,  0.0501, -0.3301,  0.3272,  0.0946],\n",
            "        [ 0.3259,  0.0610,  0.3024,  0.2122, -0.0916, -0.0391, -0.0615,  0.3153],\n",
            "        [ 0.2778,  0.0310,  0.1662, -0.0075, -0.0478, -0.0073, -0.2696, -0.1443],\n",
            "        [-0.3625,  0.3435, -0.0160,  0.2442,  0.3629,  0.2294,  0.0735,  0.1324],\n",
            "        [ 0.2091, -0.2175, -0.2432,  0.2871,  0.2156,  0.3296, -0.1545,  0.2755],\n",
            "        [-0.3321,  0.1302,  0.1222,  0.3260,  0.3426,  0.0877,  0.0779, -0.1614],\n",
            "        [ 0.3377, -0.1161,  0.0332,  0.0066,  0.1879, -0.0712, -0.3364, -0.2279],\n",
            "        [ 0.3221,  0.1510, -0.3099,  0.1216,  0.0107,  0.0750, -0.2492,  0.0336],\n",
            "        [-0.0672,  0.1351, -0.2657, -0.2888, -0.2638, -0.1623,  0.1756, -0.0069],\n",
            "        [ 0.0591, -0.0115, -0.2116,  0.0496, -0.0665, -0.3185, -0.1136,  0.1617],\n",
            "        [ 0.2870,  0.0525, -0.1982, -0.3360,  0.2841, -0.1742,  0.1908,  0.1931],\n",
            "        [ 0.0564, -0.0518, -0.0725, -0.1694,  0.2942, -0.1833,  0.2302,  0.3436],\n",
            "        [-0.0820,  0.1131,  0.3023,  0.2068,  0.3524,  0.3446,  0.1838,  0.0151],\n",
            "        [ 0.3423, -0.2185, -0.0783, -0.3394,  0.2350,  0.1032, -0.0124,  0.1363],\n",
            "        [-0.0498, -0.2437,  0.0952,  0.2822,  0.2796,  0.0155, -0.0320, -0.3330],\n",
            "        [-0.0972, -0.3454, -0.2614, -0.2676, -0.0395, -0.3088,  0.3281, -0.2095],\n",
            "        [ 0.0905,  0.1099,  0.0954,  0.0261,  0.2195, -0.2836, -0.0120,  0.2088]],\n",
            "       requires_grad=True), Parameter containing:\n",
            "tensor([ 0.0796, -0.0825,  0.0706,  0.3118,  0.1661,  0.0332, -0.2291,  0.1495,\n",
            "         0.2346,  0.0272,  0.2378,  0.3041,  0.2944,  0.1602, -0.1595,  0.1821,\n",
            "        -0.2472,  0.1004,  0.1929, -0.0881,  0.1017, -0.2576,  0.1449, -0.2279,\n",
            "        -0.2314, -0.2165, -0.1155,  0.1098,  0.2008,  0.1364,  0.0601,  0.1611,\n",
            "         0.0158, -0.2548, -0.2128,  0.0407, -0.1806,  0.2393,  0.1495,  0.1745,\n",
            "         0.3340, -0.0471, -0.1864,  0.1552,  0.0418,  0.0540, -0.1006, -0.1709,\n",
            "         0.2797, -0.1260, -0.0040, -0.2617, -0.1749, -0.1937,  0.3038,  0.0511,\n",
            "         0.3610,  0.2659, -0.1293,  0.1267,  0.1883,  0.2399,  0.0548,  0.0176,\n",
            "         0.2454, -0.2393,  0.2098,  0.0070,  0.2792,  0.0481,  0.1877, -0.1678,\n",
            "        -0.1088, -0.1041, -0.2430,  0.0712, -0.0712,  0.3306, -0.3155, -0.1056,\n",
            "         0.1200, -0.3477,  0.2683, -0.1668, -0.1906, -0.0252, -0.1284, -0.1079,\n",
            "        -0.0805,  0.1779, -0.2317,  0.2728,  0.2485, -0.0738,  0.2575, -0.0490,\n",
            "         0.2109,  0.3456, -0.0963,  0.3049], requires_grad=True), Parameter containing:\n",
            "tensor([[-0.0783,  0.0462,  0.0379,  ..., -0.0839,  0.0015, -0.0262],\n",
            "        [-0.0061,  0.0501,  0.0198,  ...,  0.0290, -0.0713,  0.0895],\n",
            "        [ 0.0616,  0.0340,  0.0308,  ..., -0.0743, -0.0545, -0.0635],\n",
            "        ...,\n",
            "        [-0.0347, -0.0837, -0.0831,  ...,  0.0980, -0.0706, -0.0408],\n",
            "        [ 0.0484, -0.0136,  0.0889,  ...,  0.0648, -0.0241,  0.0729],\n",
            "        [-0.0204,  0.0835, -0.0045,  ...,  0.0846, -0.0166,  0.0959]],\n",
            "       requires_grad=True), Parameter containing:\n",
            "tensor([ 0.0531, -0.1050,  0.0187, -0.0805, -0.0870, -0.0910, -0.0204,  0.0518,\n",
            "         0.0987, -0.0898, -0.0461,  0.0893, -0.0715,  0.0387, -0.0076, -0.0322,\n",
            "         0.0574,  0.0188,  0.0218,  0.0037, -0.0733, -0.0717,  0.0752,  0.0238,\n",
            "         0.0771,  0.0967,  0.0095,  0.0495,  0.0711,  0.0866, -0.0139,  0.0109,\n",
            "        -0.0141,  0.0724, -0.0466, -0.0176,  0.0593, -0.0039, -0.0019, -0.0120,\n",
            "         0.0133, -0.0925, -0.0259,  0.0634,  0.0674, -0.0346, -0.0966, -0.0577,\n",
            "         0.0308, -0.0614,  0.0060,  0.0771, -0.0912, -0.0734,  0.0423, -0.0808,\n",
            "        -0.0027,  0.0763, -0.0704, -0.0395, -0.0160,  0.0604,  0.0300,  0.0200,\n",
            "         0.0212, -0.0450,  0.0033, -0.0790,  0.0373, -0.0570, -0.0367,  0.0969,\n",
            "        -0.0450,  0.0705, -0.0354, -0.0225,  0.0316,  0.0709, -0.0792, -0.0554,\n",
            "        -0.0847,  0.0337,  0.0022,  0.0063, -0.0053, -0.0253,  0.0300, -0.0952,\n",
            "        -0.0894,  0.0121,  0.1044,  0.0109, -0.0864, -0.0711,  0.0093, -0.0509,\n",
            "         0.0137, -0.0470, -0.0969,  0.0002], requires_grad=True), Parameter containing:\n",
            "tensor([[ 6.3786e-02, -3.0657e-03, -4.0495e-02, -5.4125e-02,  6.2689e-02,\n",
            "          7.1518e-03, -5.8373e-02,  3.3134e-02,  9.8146e-02, -5.1660e-02,\n",
            "         -6.6681e-02,  4.8150e-02,  2.0409e-02, -4.1485e-02,  5.4163e-02,\n",
            "         -8.0837e-02,  3.5440e-02,  1.0863e-01, -2.0285e-02,  8.4428e-02,\n",
            "         -6.8970e-02, -8.4379e-02,  5.2407e-02,  6.8426e-02,  7.7473e-03,\n",
            "          8.8001e-02,  3.1610e-02,  1.0441e-02,  1.2048e-02, -4.4320e-02,\n",
            "          5.9628e-02,  3.4244e-02, -9.0443e-02,  1.0784e-01,  4.8843e-02,\n",
            "          6.6619e-02,  6.8641e-02, -4.3381e-05,  6.5100e-02, -2.1494e-02,\n",
            "         -8.2174e-02, -1.4215e-02,  1.1651e-02, -3.3230e-02,  2.9090e-02,\n",
            "         -6.8430e-02, -6.0650e-02,  9.6832e-02, -3.3453e-02, -6.8483e-02,\n",
            "          7.7014e-02, -4.3156e-04,  6.3027e-02,  4.2893e-02, -6.7772e-02,\n",
            "          8.6763e-02,  6.0782e-02, -4.2387e-02,  8.2990e-02, -2.0936e-02,\n",
            "          8.2164e-02, -1.2460e-02,  1.7134e-02,  4.9619e-02,  5.5473e-02,\n",
            "         -1.8538e-03,  5.0966e-02,  1.9357e-02,  7.8982e-02,  2.8749e-02,\n",
            "          1.0499e-01,  2.6972e-02, -8.3835e-02, -6.7358e-02, -1.5998e-02,\n",
            "         -7.7679e-02, -6.2971e-02, -1.6643e-02,  3.5462e-02,  1.5123e-02,\n",
            "          2.8245e-02, -4.5943e-02,  9.1579e-02,  1.7863e-02, -8.9083e-02,\n",
            "         -8.1017e-02,  3.0942e-02, -5.5189e-02,  6.6217e-02, -4.5523e-02,\n",
            "          2.4556e-02, -9.7414e-02, -6.4359e-02, -7.8169e-03, -7.9622e-02,\n",
            "         -9.8054e-02,  9.5479e-02,  6.8599e-02, -5.7196e-02,  4.0844e-02]],\n",
            "       requires_grad=True), Parameter containing:\n",
            "tensor([-0.0146], requires_grad=True)]\n"
          ],
          "name": "stdout"
        }
      ]
    },
    {
      "cell_type": "code",
      "metadata": {
        "id": "wkSQd4oZHdme",
        "colab_type": "code",
        "colab": {}
      },
      "source": [
        "import torch.optim as optim\n",
        "optimizer = optim.Adam(net.parameters(), lr=0.0001)"
      ],
      "execution_count": 0,
      "outputs": []
    },
    {
      "cell_type": "code",
      "metadata": {
        "id": "ncbXDSENIqP4",
        "colab_type": "code",
        "colab": {}
      },
      "source": [
        "# Indicação de errro\n",
        "criterion = nn.MSELoss()"
      ],
      "execution_count": 0,
      "outputs": []
    },
    {
      "cell_type": "code",
      "metadata": {
        "id": "M5yC_xvVJpdu",
        "colab_type": "code",
        "colab": {
          "base_uri": "https://localhost:8080/",
          "height": 435
        },
        "outputId": "d8428051-8949-4929-dda8-b7728192ebd9"
      },
      "source": [
        "for i in range(999):\n",
        "  optimizer.zero_grad()\n",
        "  prediction = net(X_tensor)\n",
        "  loss = criterion(prediction, y_tensor)\n",
        "  loss.backward()\n",
        "  optimizer.step()\n",
        "\n",
        "  prediction2 = torch.exp(net(X_tensor))\n",
        "  loss = criterion(prediction2, torch.exp(y_tensor))\n",
        "  print(\"Monitor de loss:\", torch.sqrt(loss))"
      ],
      "execution_count": 54,
      "outputs": [
        {
          "output_type": "stream",
          "text": [
            "Monitor de loss: tensor(118800.2422, grad_fn=<SqrtBackward>)\n",
            "Monitor de loss: tensor(118800.2422, grad_fn=<SqrtBackward>)\n"
          ],
          "name": "stdout"
        },
        {
          "output_type": "error",
          "ename": "KeyboardInterrupt",
          "evalue": "ignored",
          "traceback": [
            "\u001b[0;31m---------------------------------------------------------------------------\u001b[0m",
            "\u001b[0;31mKeyboardInterrupt\u001b[0m                         Traceback (most recent call last)",
            "\u001b[0;32m<ipython-input-54-f290a53a7088>\u001b[0m in \u001b[0;36m<module>\u001b[0;34m()\u001b[0m\n\u001b[1;32m      3\u001b[0m   \u001b[0mprediction\u001b[0m \u001b[0;34m=\u001b[0m \u001b[0mnet\u001b[0m\u001b[0;34m(\u001b[0m\u001b[0mX_tensor\u001b[0m\u001b[0;34m)\u001b[0m\u001b[0;34m\u001b[0m\u001b[0;34m\u001b[0m\u001b[0m\n\u001b[1;32m      4\u001b[0m   \u001b[0mloss\u001b[0m \u001b[0;34m=\u001b[0m \u001b[0mcriterion\u001b[0m\u001b[0;34m(\u001b[0m\u001b[0mprediction\u001b[0m\u001b[0;34m,\u001b[0m \u001b[0my_tensor\u001b[0m\u001b[0;34m)\u001b[0m\u001b[0;34m\u001b[0m\u001b[0;34m\u001b[0m\u001b[0m\n\u001b[0;32m----> 5\u001b[0;31m   \u001b[0mloss\u001b[0m\u001b[0;34m.\u001b[0m\u001b[0mbackward\u001b[0m\u001b[0;34m(\u001b[0m\u001b[0;34m)\u001b[0m\u001b[0;34m\u001b[0m\u001b[0;34m\u001b[0m\u001b[0m\n\u001b[0m\u001b[1;32m      6\u001b[0m   \u001b[0moptimizer\u001b[0m\u001b[0;34m.\u001b[0m\u001b[0mstep\u001b[0m\u001b[0;34m(\u001b[0m\u001b[0;34m)\u001b[0m\u001b[0;34m\u001b[0m\u001b[0;34m\u001b[0m\u001b[0m\n\u001b[1;32m      7\u001b[0m \u001b[0;34m\u001b[0m\u001b[0m\n",
            "\u001b[0;32m/usr/local/lib/python3.6/dist-packages/torch/tensor.py\u001b[0m in \u001b[0;36mbackward\u001b[0;34m(self, gradient, retain_graph, create_graph)\u001b[0m\n\u001b[1;32m    196\u001b[0m                 \u001b[0mproducts\u001b[0m\u001b[0;34m.\u001b[0m \u001b[0mDefaults\u001b[0m \u001b[0mto\u001b[0m\u001b[0;31m \u001b[0m\u001b[0;31m`\u001b[0m\u001b[0;31m`\u001b[0m\u001b[0;32mFalse\u001b[0m\u001b[0;31m`\u001b[0m\u001b[0;31m`\u001b[0m\u001b[0;34m.\u001b[0m\u001b[0;34m\u001b[0m\u001b[0;34m\u001b[0m\u001b[0m\n\u001b[1;32m    197\u001b[0m         \"\"\"\n\u001b[0;32m--> 198\u001b[0;31m         \u001b[0mtorch\u001b[0m\u001b[0;34m.\u001b[0m\u001b[0mautograd\u001b[0m\u001b[0;34m.\u001b[0m\u001b[0mbackward\u001b[0m\u001b[0;34m(\u001b[0m\u001b[0mself\u001b[0m\u001b[0;34m,\u001b[0m \u001b[0mgradient\u001b[0m\u001b[0;34m,\u001b[0m \u001b[0mretain_graph\u001b[0m\u001b[0;34m,\u001b[0m \u001b[0mcreate_graph\u001b[0m\u001b[0;34m)\u001b[0m\u001b[0;34m\u001b[0m\u001b[0;34m\u001b[0m\u001b[0m\n\u001b[0m\u001b[1;32m    199\u001b[0m \u001b[0;34m\u001b[0m\u001b[0m\n\u001b[1;32m    200\u001b[0m     \u001b[0;32mdef\u001b[0m \u001b[0mregister_hook\u001b[0m\u001b[0;34m(\u001b[0m\u001b[0mself\u001b[0m\u001b[0;34m,\u001b[0m \u001b[0mhook\u001b[0m\u001b[0;34m)\u001b[0m\u001b[0;34m:\u001b[0m\u001b[0;34m\u001b[0m\u001b[0;34m\u001b[0m\u001b[0m\n",
            "\u001b[0;32m/usr/local/lib/python3.6/dist-packages/torch/autograd/__init__.py\u001b[0m in \u001b[0;36mbackward\u001b[0;34m(tensors, grad_tensors, retain_graph, create_graph, grad_variables)\u001b[0m\n\u001b[1;32m     98\u001b[0m     Variable._execution_engine.run_backward(\n\u001b[1;32m     99\u001b[0m         \u001b[0mtensors\u001b[0m\u001b[0;34m,\u001b[0m \u001b[0mgrad_tensors\u001b[0m\u001b[0;34m,\u001b[0m \u001b[0mretain_graph\u001b[0m\u001b[0;34m,\u001b[0m \u001b[0mcreate_graph\u001b[0m\u001b[0;34m,\u001b[0m\u001b[0;34m\u001b[0m\u001b[0;34m\u001b[0m\u001b[0m\n\u001b[0;32m--> 100\u001b[0;31m         allow_unreachable=True)  # allow_unreachable flag\n\u001b[0m\u001b[1;32m    101\u001b[0m \u001b[0;34m\u001b[0m\u001b[0m\n\u001b[1;32m    102\u001b[0m \u001b[0;34m\u001b[0m\u001b[0m\n",
            "\u001b[0;31mKeyboardInterrupt\u001b[0m: "
          ]
        }
      ]
    },
    {
      "cell_type": "code",
      "metadata": {
        "id": "EONaF8muNbo2",
        "colab_type": "code",
        "colab": {}
      },
      "source": [
        ""
      ],
      "execution_count": 0,
      "outputs": []
    }
  ]
}