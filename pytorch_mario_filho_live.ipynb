{
  "nbformat": 4,
  "nbformat_minor": 0,
  "metadata": {
    "kernelspec": {
      "name": "python36",
      "display_name": "Python 3.6",
      "language": "python"
    },
    "language_info": {
      "mimetype": "text/x-python",
      "nbconvert_exporter": "python",
      "name": "python",
      "pygments_lexer": "ipython3",
      "version": "3.6.6",
      "file_extension": ".py",
      "codemirror_mode": {
        "version": 3,
        "name": "ipython"
      }
    },
    "colab": {
      "name": "pytorch_mario_filho_live.ipynb",
      "provenance": [],
      "include_colab_link": true
    },
    "accelerator": "GPU"
  },
  "cells": [
    {
      "cell_type": "markdown",
      "metadata": {
        "id": "view-in-github",
        "colab_type": "text"
      },
      "source": [
        "<a href=\"https://colab.research.google.com/github/jjanuario/AprendendoMachineLearn/blob/master/pytorch_mario_filho_live.ipynb\" target=\"_parent\"><img src=\"https://colab.research.google.com/assets/colab-badge.svg\" alt=\"Open In Colab\"/></a>"
      ]
    },
    {
      "cell_type": "markdown",
      "metadata": {
        "collapsed": true,
        "id": "5XtnZ6C5QbSq",
        "colab_type": "text"
      },
      "source": [
        "# São Paulo 04 de Maio de 2020\n",
        "## Live 24 Tutorial Basico de Pytorch\n",
        "### Uma biblioteca de Deep Learn do Facebook\n",
        "jeferson@asterixsolucoes.com.br"
      ]
    },
    {
      "cell_type": "code",
      "metadata": {
        "trusted": true,
        "id": "TWmqc_QBQbSu",
        "colab_type": "code",
        "outputId": "f5659ee1-754a-4d88-bb6d-59b65b35648d",
        "colab": {}
      },
      "source": [
        "# Instalando as dependencia\n",
        "!pip install --upgrade pip\n",
        "#!pip install pytorch"
      ],
      "execution_count": 0,
      "outputs": [
        {
          "output_type": "stream",
          "text": [
            "Requirement already up-to-date: pip in /home/nbuser/anaconda3_501/lib/python3.6/site-packages (20.1)\r\n"
          ],
          "name": "stdout"
        }
      ]
    },
    {
      "cell_type": "code",
      "metadata": {
        "trusted": true,
        "id": "KRy1rdvkQbTG",
        "colab_type": "code",
        "colab": {}
      },
      "source": [
        "# Realizando os imports\n",
        "import torch\n",
        "import torch.nn as nn\n",
        "import torch.nn.functional as F\n",
        "\n",
        "import pandas as pd\n",
        "import numpy as np"
      ],
      "execution_count": 0,
      "outputs": []
    },
    {
      "cell_type": "code",
      "metadata": {
        "trusted": true,
        "id": "ilzrgRnYQbTa",
        "colab_type": "code",
        "outputId": "6a2ce80f-af1a-40ce-acb1-33ce696e507a",
        "colab": {}
      },
      "source": [
        "t = torch.Tensor([1,2,3])\n",
        "t"
      ],
      "execution_count": 0,
      "outputs": [
        {
          "output_type": "execute_result",
          "data": {
            "text/plain": [
              "tensor([1., 2., 3.])"
            ]
          },
          "metadata": {
            "tags": []
          },
          "execution_count": 7
        }
      ]
    },
    {
      "cell_type": "code",
      "metadata": {
        "trusted": true,
        "id": "Wgo_rpxCQbTz",
        "colab_type": "code",
        "colab": {}
      },
      "source": [
        "array = np.array([1,2,3])\n",
        "t2 = torch.from_numpy(array)"
      ],
      "execution_count": 0,
      "outputs": []
    },
    {
      "cell_type": "code",
      "metadata": {
        "trusted": true,
        "id": "psOF2ghiQbT7",
        "colab_type": "code",
        "outputId": "1ecb8d95-97a9-4add-93cd-957bdd8e8fb7",
        "colab": {}
      },
      "source": [
        "t2"
      ],
      "execution_count": 0,
      "outputs": [
        {
          "output_type": "execute_result",
          "data": {
            "text/plain": [
              "tensor([1, 2, 3])"
            ]
          },
          "metadata": {
            "tags": []
          },
          "execution_count": 13
        }
      ]
    },
    {
      "cell_type": "code",
      "metadata": {
        "trusted": true,
        "id": "Hy5RcSyfQbUG",
        "colab_type": "code",
        "outputId": "bd75dd8b-87d6-4ad8-f8a5-17d1f08f0a49",
        "colab": {}
      },
      "source": [
        "t *10"
      ],
      "execution_count": 0,
      "outputs": [
        {
          "output_type": "execute_result",
          "data": {
            "text/plain": [
              "tensor([10., 20., 30.])"
            ]
          },
          "metadata": {
            "tags": []
          },
          "execution_count": 14
        }
      ]
    },
    {
      "cell_type": "code",
      "metadata": {
        "trusted": true,
        "id": "wLvpnU7LQbUT",
        "colab_type": "code",
        "outputId": "ac53ddfc-5070-48fb-e589-027361e53398",
        "colab": {}
      },
      "source": [
        "t.dot(t)"
      ],
      "execution_count": 0,
      "outputs": [
        {
          "output_type": "execute_result",
          "data": {
            "text/plain": [
              "tensor(14.)"
            ]
          },
          "metadata": {
            "tags": []
          },
          "execution_count": 15
        }
      ]
    },
    {
      "cell_type": "code",
      "metadata": {
        "trusted": true,
        "id": "MVRt0yQKQbUa",
        "colab_type": "code",
        "outputId": "4e6ed393-c40b-4eec-e46a-93a9cefa56fd",
        "colab": {}
      },
      "source": [
        "t3 = torch.Tensor([2,2,2])\n",
        "t3.dot(t3)"
      ],
      "execution_count": 0,
      "outputs": [
        {
          "output_type": "execute_result",
          "data": {
            "text/plain": [
              "tensor(12.)"
            ]
          },
          "metadata": {
            "tags": []
          },
          "execution_count": 19
        }
      ]
    },
    {
      "cell_type": "code",
      "metadata": {
        "id": "LdURnVUEQ34i",
        "colab_type": "code",
        "outputId": "57149eef-a011-4f5b-fbd8-7ccbe48cb50e",
        "colab": {
          "base_uri": "https://localhost:8080/",
          "height": 35
        }
      },
      "source": [
        "!ls sample_data/california_housing_test.csv"
      ],
      "execution_count": 0,
      "outputs": [
        {
          "output_type": "stream",
          "text": [
            "sample_data/california_housing_test.csv\n"
          ],
          "name": "stdout"
        }
      ]
    },
    {
      "cell_type": "code",
      "metadata": {
        "trusted": true,
        "id": "0n64fvwMQbUg",
        "colab_type": "code",
        "outputId": "acb46720-b983-4206-e869-b3d164412a6d",
        "colab": {
          "base_uri": "https://localhost:8080/",
          "height": 143
        }
      },
      "source": [
        "# Lendo o dataset\n",
        "data_test = pd.read_csv(\"sample_data/california_housing_test.csv\")\n",
        "data_train = pd.read_csv(\"sample_data/california_housing_train.csv\")\n",
        "data_train.sample(3)"
      ],
      "execution_count": 0,
      "outputs": [
        {
          "output_type": "execute_result",
          "data": {
            "text/html": [
              "<div>\n",
              "<style scoped>\n",
              "    .dataframe tbody tr th:only-of-type {\n",
              "        vertical-align: middle;\n",
              "    }\n",
              "\n",
              "    .dataframe tbody tr th {\n",
              "        vertical-align: top;\n",
              "    }\n",
              "\n",
              "    .dataframe thead th {\n",
              "        text-align: right;\n",
              "    }\n",
              "</style>\n",
              "<table border=\"1\" class=\"dataframe\">\n",
              "  <thead>\n",
              "    <tr style=\"text-align: right;\">\n",
              "      <th></th>\n",
              "      <th>longitude</th>\n",
              "      <th>latitude</th>\n",
              "      <th>housing_median_age</th>\n",
              "      <th>total_rooms</th>\n",
              "      <th>total_bedrooms</th>\n",
              "      <th>population</th>\n",
              "      <th>households</th>\n",
              "      <th>median_income</th>\n",
              "      <th>median_house_value</th>\n",
              "    </tr>\n",
              "  </thead>\n",
              "  <tbody>\n",
              "    <tr>\n",
              "      <th>7955</th>\n",
              "      <td>-118.41</td>\n",
              "      <td>34.16</td>\n",
              "      <td>32.0</td>\n",
              "      <td>3060.0</td>\n",
              "      <td>505.0</td>\n",
              "      <td>1159.0</td>\n",
              "      <td>510.0</td>\n",
              "      <td>6.3703</td>\n",
              "      <td>465800.0</td>\n",
              "    </tr>\n",
              "    <tr>\n",
              "      <th>11442</th>\n",
              "      <td>-121.24</td>\n",
              "      <td>38.72</td>\n",
              "      <td>12.0</td>\n",
              "      <td>3605.0</td>\n",
              "      <td>576.0</td>\n",
              "      <td>1556.0</td>\n",
              "      <td>549.0</td>\n",
              "      <td>4.9000</td>\n",
              "      <td>203700.0</td>\n",
              "    </tr>\n",
              "    <tr>\n",
              "      <th>6307</th>\n",
              "      <td>-118.25</td>\n",
              "      <td>33.95</td>\n",
              "      <td>48.0</td>\n",
              "      <td>1766.0</td>\n",
              "      <td>424.0</td>\n",
              "      <td>1655.0</td>\n",
              "      <td>420.0</td>\n",
              "      <td>0.9751</td>\n",
              "      <td>95500.0</td>\n",
              "    </tr>\n",
              "  </tbody>\n",
              "</table>\n",
              "</div>"
            ],
            "text/plain": [
              "       longitude  latitude  ...  median_income  median_house_value\n",
              "7955     -118.41     34.16  ...         6.3703            465800.0\n",
              "11442    -121.24     38.72  ...         4.9000            203700.0\n",
              "6307     -118.25     33.95  ...         0.9751             95500.0\n",
              "\n",
              "[3 rows x 9 columns]"
            ]
          },
          "metadata": {
            "tags": []
          },
          "execution_count": 7
        }
      ]
    },
    {
      "cell_type": "code",
      "metadata": {
        "trusted": true,
        "id": "UnyCmCQIQbUp",
        "colab_type": "code",
        "colab": {}
      },
      "source": [
        ""
      ],
      "execution_count": 0,
      "outputs": []
    }
  ]
}